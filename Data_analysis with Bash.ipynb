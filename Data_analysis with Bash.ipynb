{
 "cells": [
  {
   "cell_type": "code",
   "execution_count": null,
   "metadata": {
    "colab": {
     "base_uri": "https://localhost:8080/"
    },
    "executionInfo": {
     "elapsed": 12196,
     "status": "ok",
     "timestamp": 1670773690185,
     "user": {
      "displayName": "Aldridge Albert Abaasa",
      "userId": "12740188174108323071"
     },
     "user_tz": 0
    },
    "id": "52hha-WJV25T",
    "outputId": "8d3e3adf-2b56-4d2e-da16-3e6a39ae22ac"
   },
   "outputs": [
    {
     "name": "stdout",
     "output_type": "stream",
     "text": [
      "Drive already mounted at /content/drive; to attempt to forcibly remount, call drive.mount(\"/content/drive\", force_remount=True).\n"
     ]
    }
   ],
   "source": [
    "from google.colab import drive\n",
    "drive.mount('/content/drive')"
   ]
  },
  {
   "cell_type": "code",
   "execution_count": null,
   "metadata": {
    "colab": {
     "base_uri": "https://localhost:8080/"
    },
    "executionInfo": {
     "elapsed": 874,
     "status": "ok",
     "timestamp": 1670773690979,
     "user": {
      "displayName": "Aldridge Albert Abaasa",
      "userId": "12740188174108323071"
     },
     "user_tz": 0
    },
    "id": "xmcjVatZXm3B",
    "outputId": "2d7e3f8a-02e6-414e-ea8a-0808e78470c5"
   },
   "outputs": [
    {
     "name": "stdout",
     "output_type": "stream",
     "text": [
      "--2022-12-11 15:47:25--  https://csserver.ucd.ie/~rholmes/crimedata-australia.csv\n",
      "Resolving csserver.ucd.ie (csserver.ucd.ie)... 193.1.133.60\n",
      "Connecting to csserver.ucd.ie (csserver.ucd.ie)|193.1.133.60|:443... connected.\n",
      "HTTP request sent, awaiting response... 200 OK\n",
      "Length: 1858 (1.8K) [text/csv]\n",
      "Saving to: ‘crimedata-australia.csv’\n",
      "\n",
      "crimedata-australia 100%[===================>]   1.81K  --.-KB/s    in 0s      \n",
      "\n",
      "2022-12-11 15:47:26 (53.1 MB/s) - ‘crimedata-australia.csv’ saved [1858/1858]\n",
      "\n"
     ]
    }
   ],
   "source": [
    "!wget https://csserver.ucd.ie/~rholmes/crimedata-australia.csv"
   ]
  },
  {
   "cell_type": "code",
   "execution_count": null,
   "metadata": {
    "colab": {
     "base_uri": "https://localhost:8080/"
    },
    "executionInfo": {
     "elapsed": 54,
     "status": "ok",
     "timestamp": 1670773690983,
     "user": {
      "displayName": "Aldridge Albert Abaasa",
      "userId": "12740188174108323071"
     },
     "user_tz": 0
    },
    "id": "jn7K5Bo8YHDQ",
    "outputId": "8b23361b-391d-449c-8644-031a855574b8"
   },
   "outputs": [
    {
     "name": "stdout",
     "output_type": "stream",
     "text": [
      "Case Incident Type,National,Adelaide,Brisbane,Cairns,Darwin,Hobart,Melbourne,Perth,Sydney,Total\n",
      "Drugs ? Imported,8,9,48,4,10,0,121,43,191,434\n",
      "Drugs ? Exported,0,0,0,1,0,0,0,0,0,1\n",
      "Drugs ? Trafficked,1,0,1,0,0,0,1,0,2,5\n",
      "People Smuggling,30,1,0,1,2,0,1,10,1,46\n"
     ]
    }
   ],
   "source": [
    "!head -5 crimedata-australia.csv"
   ]
  },
  {
   "cell_type": "code",
   "execution_count": null,
   "metadata": {
    "colab": {
     "base_uri": "https://localhost:8080/"
    },
    "executionInfo": {
     "elapsed": 353,
     "status": "ok",
     "timestamp": 1670773691310,
     "user": {
      "displayName": "Aldridge Albert Abaasa",
      "userId": "12740188174108323071"
     },
     "user_tz": 0
    },
    "id": "S-GDRU5tZAG_",
    "outputId": "de4355e9-12e2-49a7-8ac5-ea31ed0d592d"
   },
   "outputs": [
    {
     "name": "stdout",
     "output_type": "stream",
     "text": [
      "40\n"
     ]
    }
   ],
   "source": [
    "!tail -n+2 crimedata-australia.csv  | wc -l"
   ]
  },
  {
   "cell_type": "code",
   "execution_count": null,
   "metadata": {
    "colab": {
     "base_uri": "https://localhost:8080/"
    },
    "executionInfo": {
     "elapsed": 27,
     "status": "ok",
     "timestamp": 1670773691311,
     "user": {
      "displayName": "Aldridge Albert Abaasa",
      "userId": "12740188174108323071"
     },
     "user_tz": 0
    },
    "id": "OTwkX5rpaNvn",
    "outputId": "586487a4-a416-4a1b-a077-12f15c52e25d"
   },
   "outputs": [
    {
     "name": "stdout",
     "output_type": "stream",
     "text": [
      "11\n"
     ]
    }
   ],
   "source": [
    "!head -1 crimedata-australia.csv  | sed 's/[^,]//g' | wc -c "
   ]
  },
  {
   "cell_type": "code",
   "execution_count": null,
   "metadata": {
    "id": "6iFPfP-e52EA"
   },
   "outputs": [],
   "source": [
    "!cut -d\",\" -f10,1 crimedata-australia.csv > resultQ3.txt"
   ]
  },
  {
   "cell_type": "code",
   "execution_count": null,
   "metadata": {
    "colab": {
     "base_uri": "https://localhost:8080/"
    },
    "executionInfo": {
     "elapsed": 334,
     "status": "ok",
     "timestamp": 1670773691628,
     "user": {
      "displayName": "Aldridge Albert Abaasa",
      "userId": "12740188174108323071"
     },
     "user_tz": 0
    },
    "id": "5vUiRH55aSmM",
    "outputId": "54072904-1192-43e0-ed60-5592627d44d2"
   },
   "outputs": [
    {
     "name": "stdout",
     "output_type": "stream",
     "text": [
      "Drugs ? Imported,191\n"
     ]
    }
   ],
   "source": [
    "# !cat $(sort -t',' -nk2 -r resultQ3.txt | head -1)\n",
    "!sort -t',' -nk2 -r resultQ3.txt | head -1"
   ]
  },
  {
   "cell_type": "code",
   "execution_count": null,
   "metadata": {
    "colab": {
     "base_uri": "https://localhost:8080/"
    },
    "executionInfo": {
     "elapsed": 7552,
     "status": "ok",
     "timestamp": 1670773699132,
     "user": {
      "displayName": "Aldridge Albert Abaasa",
      "userId": "12740188174108323071"
     },
     "user_tz": 0
    },
    "id": "TN3awsSKZavw",
    "outputId": "4e87fc75-a96d-4179-db87-7f3b6fbfcd70"
   },
   "outputs": [
    {
     "name": "stdout",
     "output_type": "stream",
     "text": [
      "Reading package lists... Done\n",
      "Building dependency tree       \n",
      "Reading state information... Done\n",
      "The following package was automatically installed and is no longer required:\n",
      "  libnvidia-common-460\n",
      "Use 'apt autoremove' to remove it.\n",
      "The following NEW packages will be installed:\n",
      "  bc\n",
      "0 upgraded, 1 newly installed, 0 to remove and 20 not upgraded.\n",
      "Need to get 86.2 kB of archives.\n",
      "After this operation, 223 kB of additional disk space will be used.\n",
      "Get:1 http://archive.ubuntu.com/ubuntu bionic/main amd64 bc amd64 1.07.1-2 [86.2 kB]\n",
      "Fetched 86.2 kB in 0s (278 kB/s)\n",
      "Selecting previously unselected package bc.\n",
      "(Reading database ... 124013 files and directories currently installed.)\n",
      "Preparing to unpack .../archives/bc_1.07.1-2_amd64.deb ...\n",
      "Unpacking bc (1.07.1-2) ...\n",
      "Setting up bc (1.07.1-2) ...\n",
      "Processing triggers for man-db (2.8.3-2ubuntu0.1) ...\n"
     ]
    }
   ],
   "source": [
    "!apt-get install bc\n",
    "#Install bc to perform the summation"
   ]
  },
  {
   "cell_type": "code",
   "execution_count": null,
   "metadata": {
    "colab": {
     "base_uri": "https://localhost:8080/"
    },
    "executionInfo": {
     "elapsed": 52,
     "status": "ok",
     "timestamp": 1670773699140,
     "user": {
      "displayName": "Aldridge Albert Abaasa",
      "userId": "12740188174108323071"
     },
     "user_tz": 0
    },
    "id": "dzgOCqDG-75i",
    "outputId": "60620379-8489-41d1-be95-001f8269c27c"
   },
   "outputs": [
    {
     "name": "stdout",
     "output_type": "stream",
     "text": [
      "472\n"
     ]
    }
   ],
   "source": [
    "# !tail -n +2  resultQ3.txt\n",
    "!tail -n +2 resultQ3.txt | cut -d \",\" -f 2 | paste -sd+ | bc  -l"
   ]
  },
  {
   "cell_type": "code",
   "execution_count": null,
   "metadata": {
    "colab": {
     "base_uri": "https://localhost:8080/"
    },
    "executionInfo": {
     "elapsed": 412,
     "status": "ok",
     "timestamp": 1670773699525,
     "user": {
      "displayName": "Aldridge Albert Abaasa",
      "userId": "12740188174108323071"
     },
     "user_tz": 0
    },
    "id": "lCtb1tBiAmJQ",
    "outputId": "4d25c35d-9ff9-4b38-ad77-dad7a4cc3b07"
   },
   "outputs": [
    {
     "name": "stdout",
     "output_type": "stream",
     "text": [
      "11.8\n"
     ]
    }
   ],
   "source": [
    "question_one=40\n",
    "question_four=472\n",
    "!echo $question_four / $question_one |  bc  -l | tr -d \"0\""
   ]
  },
  {
   "cell_type": "code",
   "execution_count": null,
   "metadata": {
    "colab": {
     "base_uri": "https://localhost:8080/"
    },
    "executionInfo": {
     "elapsed": 28,
     "status": "ok",
     "timestamp": 1670773699526,
     "user": {
      "displayName": "Aldridge Albert Abaasa",
      "userId": "12740188174108323071"
     },
     "user_tz": 0
    },
    "id": "2qNIgwvw6oC-",
    "outputId": "3f8d50e2-c9ea-45ac-b05b-262f3fb9037a"
   },
   "outputs": [
    {
     "name": "stdout",
     "output_type": "stream",
     "text": [
      "3.475\n"
     ]
    }
   ],
   "source": [
    "!cut -d, -f3 crimedata-australia.csv | tail -n -40  | awk '{total += $1; count++} END {print total /count}'"
   ]
  },
  {
   "cell_type": "code",
   "execution_count": null,
   "metadata": {
    "colab": {
     "base_uri": "https://localhost:8080/"
    },
    "executionInfo": {
     "elapsed": 22,
     "status": "ok",
     "timestamp": 1670773699526,
     "user": {
      "displayName": "Aldridge Albert Abaasa",
      "userId": "12740188174108323071"
     },
     "user_tz": 0
    },
    "id": "W8LRorD2MWag",
    "outputId": "8a9dbc83-ac6e-42a1-d175-22fd82d99305"
   },
   "outputs": [
    {
     "name": "stdout",
     "output_type": "stream",
     "text": [
      "5.5\n"
     ]
    }
   ],
   "source": [
    "!cut -d, -f4 crimedata-australia.csv | tail -n -40  | awk '{total +=$0; count++} END {print total /count}'"
   ]
  },
  {
   "cell_type": "code",
   "execution_count": null,
   "metadata": {
    "colab": {
     "base_uri": "https://localhost:8080/"
    },
    "executionInfo": {
     "elapsed": 329,
     "status": "ok",
     "timestamp": 1670773699839,
     "user": {
      "displayName": "Aldridge Albert Abaasa",
      "userId": "12740188174108323071"
     },
     "user_tz": 0
    },
    "id": "Ty7LV2foMfDO",
    "outputId": "52c04d65-b018-4608-e988-37526c36b50f"
   },
   "outputs": [
    {
     "name": "stdout",
     "output_type": "stream",
     "text": [
      "0.775\n"
     ]
    }
   ],
   "source": [
    "!cut -d, -f5 crimedata-australia.csv | tail -n -40  | awk '{total +=$0; count++} END {print total /count}'"
   ]
  },
  {
   "cell_type": "code",
   "execution_count": null,
   "metadata": {
    "colab": {
     "base_uri": "https://localhost:8080/"
    },
    "executionInfo": {
     "elapsed": 37,
     "status": "ok",
     "timestamp": 1670773699840,
     "user": {
      "displayName": "Aldridge Albert Abaasa",
      "userId": "12740188174108323071"
     },
     "user_tz": 0
    },
    "id": "r_iEyNt3MfYb",
    "outputId": "08edd20c-458b-40f7-d8d1-167b6f08526a"
   },
   "outputs": [
    {
     "name": "stdout",
     "output_type": "stream",
     "text": [
      "0.675\n"
     ]
    }
   ],
   "source": [
    "!cut -d, -f6 crimedata-australia.csv | tail -n -40  | awk '{total +=$0; count++} END {print total /count}'"
   ]
  },
  {
   "cell_type": "code",
   "execution_count": null,
   "metadata": {
    "colab": {
     "base_uri": "https://localhost:8080/"
    },
    "executionInfo": {
     "elapsed": 21,
     "status": "ok",
     "timestamp": 1670773699840,
     "user": {
      "displayName": "Aldridge Albert Abaasa",
      "userId": "12740188174108323071"
     },
     "user_tz": 0
    },
    "id": "M9LrJKNnMfb7",
    "outputId": "bfa6e775-5296-4fee-cf85-426a31cdec6b"
   },
   "outputs": [
    {
     "name": "stdout",
     "output_type": "stream",
     "text": [
      "0.525\n"
     ]
    }
   ],
   "source": [
    "!cut -d, -f7 crimedata-australia.csv | tail -n -40  | awk '{total +=$0; count++} END {print total /count}'"
   ]
  },
  {
   "cell_type": "code",
   "execution_count": null,
   "metadata": {
    "colab": {
     "base_uri": "https://localhost:8080/"
    },
    "executionInfo": {
     "elapsed": 332,
     "status": "ok",
     "timestamp": 1670773700161,
     "user": {
      "displayName": "Aldridge Albert Abaasa",
      "userId": "12740188174108323071"
     },
     "user_tz": 0
    },
    "id": "qfLvB2raMffb",
    "outputId": "41e81916-ad2c-4eb9-ed18-51fa800ae8fd"
   },
   "outputs": [
    {
     "name": "stdout",
     "output_type": "stream",
     "text": [
      "9.175\n"
     ]
    }
   ],
   "source": [
    "!cut -d, -f8 crimedata-australia.csv | tail -n -40  | awk '{total +=$0; count++} END {print total /count}'"
   ]
  },
  {
   "cell_type": "code",
   "execution_count": null,
   "metadata": {
    "colab": {
     "base_uri": "https://localhost:8080/"
    },
    "executionInfo": {
     "elapsed": 51,
     "status": "ok",
     "timestamp": 1670773700162,
     "user": {
      "displayName": "Aldridge Albert Abaasa",
      "userId": "12740188174108323071"
     },
     "user_tz": 0
    },
    "id": "RJw4V-oaMfi8",
    "outputId": "32d96128-0d41-48a0-e28f-0a4c2b86098d"
   },
   "outputs": [
    {
     "name": "stdout",
     "output_type": "stream",
     "text": [
      "5.625\n"
     ]
    }
   ],
   "source": [
    "!cut -d, -f9 crimedata-australia.csv | tail -n -40  | awk '{total +=$0; count++} END {print total /count}'"
   ]
  },
  {
   "cell_type": "code",
   "execution_count": null,
   "metadata": {
    "colab": {
     "base_uri": "https://localhost:8080/"
    },
    "executionInfo": {
     "elapsed": 271,
     "status": "ok",
     "timestamp": 1670773700397,
     "user": {
      "displayName": "Aldridge Albert Abaasa",
      "userId": "12740188174108323071"
     },
     "user_tz": 0
    },
    "id": "6FsZgEDDMfmZ",
    "outputId": "e849653d-313a-4d4a-9fd3-e07f91ef4452"
   },
   "outputs": [
    {
     "name": "stdout",
     "output_type": "stream",
     "text": [
      "11.8\n"
     ]
    }
   ],
   "source": [
    "!cut -d, -f10 crimedata-australia.csv | tail -n -40  | awk '{total +=$0; count++} END {print total /count}'"
   ]
  },
  {
   "cell_type": "code",
   "execution_count": null,
   "metadata": {
    "colab": {
     "base_uri": "https://localhost:8080/"
    },
    "executionInfo": {
     "elapsed": 219,
     "status": "ok",
     "timestamp": 1670773714542,
     "user": {
      "displayName": "Aldridge Albert Abaasa",
      "userId": "12740188174108323071"
     },
     "user_tz": 0
    },
    "id": "yLpn4sW7OR5v",
    "outputId": "66862454-b1c6-4607-e3c1-18ff926d8648"
   },
   "outputs": [
    {
     "name": "stdout",
     "output_type": "stream",
     "text": [
      "Hobart\n"
     ]
    }
   ],
   "source": [
    "!cut -d, -f7 crimedata-australia.csv | head -n 1"
   ]
  },
  {
   "cell_type": "code",
   "execution_count": null,
   "metadata": {
    "colab": {
     "base_uri": "https://localhost:8080/"
    },
    "executionInfo": {
     "elapsed": 244,
     "status": "ok",
     "timestamp": 1670775955630,
     "user": {
      "displayName": "Aldridge Albert Abaasa",
      "userId": "12740188174108323071"
     },
     "user_tz": 0
    },
    "id": "O6yrpWI637xM",
    "outputId": "86ae58db-9126-4cfd-f138-67242a411ff7"
   },
   "outputs": [
    {
     "name": "stdout",
     "output_type": "stream",
     "text": [
      "Overwriting lowest_avg.sh\n"
     ]
    }
   ],
   "source": [
    "\t%%writefile lowest_avg.sh\n",
    "\n",
    "#!/bin/bash\n",
    "\n",
    "# Set the field separator to a comma\n",
    "IFS=\",\"\n",
    "\n",
    "# Initialize variables\n",
    "lowest_average=-1\n",
    "lowest_average_column=\"\"\n",
    "\n",
    "# Read the first line of the CSV file to get the column names\n",
    "read -ra columns <<< $(head -n1 $1)\n",
    "\n",
    "# Iterate over each column in the CSV file\n",
    "for ((i = 0; i < ${#columns[@]}; i++))\n",
    "do\n",
    "  # Calculate the average of the values in the current column\n",
    "  average=$(cut -d \",\" -f $((i+1)) $1 | tail -n+2 | awk '{sum+=$1;count++} END {print sum/count}')\n",
    "\n",
    "  # Check if the current average is lower than the previous lowest average\n",
    "  if [[ $average < $lowest_average || $lowest_average == -1 ]]\n",
    "  then\n",
    "    # Update the lowest average and the corresponding column name\n",
    "    lowest_average=$average\n",
    "    lowest_average_column=${columns[i]}\n",
    "  fi\n",
    "done\n",
    "\n",
    "# Print the column with the lowest average\n",
    "echo \"The column-city with the lowest average is: $lowest_average_column\""
   ]
  },
  {
   "cell_type": "code",
   "execution_count": null,
   "metadata": {
    "id": "DBGKwpBm76nZ"
   },
   "outputs": [],
   "source": [
    "!chmod +x lowest_avg.sh"
   ]
  },
  {
   "cell_type": "code",
   "execution_count": null,
   "metadata": {
    "colab": {
     "base_uri": "https://localhost:8080/"
    },
    "executionInfo": {
     "elapsed": 607,
     "status": "ok",
     "timestamp": 1670775961455,
     "user": {
      "displayName": "Aldridge Albert Abaasa",
      "userId": "12740188174108323071"
     },
     "user_tz": 0
    },
    "id": "jTYg31ZX8Aiz",
    "outputId": "32ca9b07-4db1-45cf-8bdd-3f059440c853"
   },
   "outputs": [
    {
     "name": "stdout",
     "output_type": "stream",
     "text": [
      "The column-city with the lowest average is: Hobart\n"
     ]
    }
   ],
   "source": [
    "!./lowest_avg.sh crimedata-australia.csv"
   ]
  }
 ],
 "metadata": {
  "colab": {
   "authorship_tag": "ABX9TyOmA+0F19wKqcRf+ZIZdw9+",
   "mount_file_id": "1Wbm86-d0q6tfkihQfImJXwZ0USc0btNx",
   "provenance": []
  },
  "kernelspec": {
   "display_name": "Python 3 (ipykernel)",
   "language": "python",
   "name": "python3"
  },
  "language_info": {
   "codemirror_mode": {
    "name": "ipython",
    "version": 3
   },
   "file_extension": ".py",
   "mimetype": "text/x-python",
   "name": "python",
   "nbconvert_exporter": "python",
   "pygments_lexer": "ipython3",
   "version": "3.9.13"
  }
 },
 "nbformat": 4,
 "nbformat_minor": 1
}
